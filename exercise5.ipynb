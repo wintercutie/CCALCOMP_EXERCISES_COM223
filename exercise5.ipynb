{
  "cells": [
    {
      "cell_type": "markdown",
      "metadata": {
        "id": "-8bYOEC8HOQ4"
      },
      "source": [
        "# Exercise 5\n",
        "\n",
        "Please follow the instructions in each number."
      ]
    },
    {
      "cell_type": "markdown",
      "metadata": {
        "id": "FEPXLUAPHOQ6"
      },
      "source": [
        "### Maximum Subarray\n",
        "Given an array of integers nums, find the subarray with the largest sum and return the sum.\n",
        "\n",
        "A subarray is a contiguous non-empty sequence of elements within an array.\n",
        "\n",
        "\n",
        "\n",
        "Example 1:\n",
        "\n",
        "Input: nums = [2,-3,4,-2,2,1,-1,4]\n",
        "\n",
        "Output: 8\n",
        "\n",
        "Explanation: The subarray [4,-2,2,1,-1,4] has the largest sum 8."
      ]
    },
    {
      "cell_type": "markdown",
      "metadata": {
        "id": "D4a-4yS4HOQ7"
      },
      "source": [
        "## Tasks"
      ]
    },
    {
      "cell_type": "markdown",
      "metadata": {
        "id": "v8mlE6kYHOQ7"
      },
      "source": [
        "1. Put your student number in a list and manually compute the maximum subarray in your student number (`10 points`)"
      ]
    },
    {
      "cell_type": "code",
      "execution_count": 1,
      "metadata": {
        "vscode": {
          "languageId": "plaintext"
        },
        "id": "YJMIVpuTHOQ8",
        "colab": {
          "base_uri": "https://localhost:8080/"
        },
        "outputId": "173b9e4b-d819-4e8d-c9dc-a77d332802d4"
      },
      "outputs": [
        {
          "output_type": "stream",
          "name": "stdout",
          "text": [
            "Maximum subarray sum for student number: 34\n"
          ]
        }
      ],
      "source": [
        "def max_subarray_sum(nums):\n",
        "    max_current = nums[0]\n",
        "    max_ending_cur = nums[0]\n",
        "\n",
        "    for num in nums[1:]:\n",
        "        max_ending_cur = max(num, max_ending_cur + num)\n",
        "        max_current = max(max_current, max_ending_cur)\n",
        "\n",
        "    return max_current\n",
        "\n",
        "student_no = [2, 0, 2, 2, 1, 0, 5, 2, 8, 8]\n",
        "print(\"Maximum subarray sum for student number:\", max_subarray_sum(student_no))"
      ]
    },
    {
      "cell_type": "markdown",
      "metadata": {
        "id": "nchQgI2KHOQ8"
      },
      "source": [
        "2. Write a program using a brute-force approach to get the maximum-subarray of your student number (`40 points`)"
      ]
    },
    {
      "cell_type": "code",
      "execution_count": 2,
      "metadata": {
        "vscode": {
          "languageId": "plaintext"
        },
        "id": "b9P6oe11HOQ9",
        "colab": {
          "base_uri": "https://localhost:8080/"
        },
        "outputId": "d45e8917-ae8a-4fc3-8304-1098d4daa7e4"
      },
      "outputs": [
        {
          "output_type": "stream",
          "name": "stdout",
          "text": [
            "Maximum subarray sum for student number: 34\n"
          ]
        }
      ],
      "source": [
        "def max_subarray_sum_brute_force(nums):\n",
        "    n = len(nums)\n",
        "    max_sum = float('-inf')\n",
        "\n",
        "    for start in range(n):\n",
        "        current_sum = 0\n",
        "        for end in range(start, n):\n",
        "            current_sum += nums[end]\n",
        "            max_sum = max(max_sum, current_sum)\n",
        "\n",
        "    return max_sum\n",
        "\n",
        "student_no = [2, 0, 2, 2, 1, 0, 5, 2, 8, 8]\n",
        "print(\"Maximum subarray sum for student number:\", max_subarray_sum_brute_force(student_no))"
      ]
    },
    {
      "cell_type": "markdown",
      "metadata": {
        "id": "NkqAxIx_HOQ9"
      },
      "source": [
        "3. Write a program using a dynamic programming to get the maximum-subarray of your student number (`50 points`)"
      ]
    },
    {
      "cell_type": "code",
      "execution_count": null,
      "metadata": {
        "vscode": {
          "languageId": "plaintext"
        },
        "id": "BFBp2ARLHOQ9"
      },
      "outputs": [],
      "source": [
        "def max_subarray_sum_dp(nums):\n",
        "    n = len(nums)\n",
        "    if n == 0:\n",
        "        return 0\n",
        "\n",
        "    dp = [0] * n\n",
        "    dp[0] = nums[0]\n",
        "\n",
        "    max_sum = nums[0]\n",
        "\n",
        "    for i in range(1, n):\n",
        "        dp[i] = max(nums[i], nums[i] + dp[i-1])\n",
        "        max_sum = max(max_sum, dp[i])\n",
        "\n",
        "    return max_sum\n",
        "\n",
        "student_no = [2, 0, 2, 2, 1, 0, 5, 2, 8, 8]\n",
        "print(\"Maximum subarray sum for student number:\", max_subarray_sum_dp(student_no))"
      ]
    }
  ],
  "metadata": {
    "colab": {
      "provenance": []
    },
    "kernelspec": {
      "display_name": "base",
      "language": "python",
      "name": "python3"
    },
    "language_info": {
      "codemirror_mode": {
        "name": "ipython",
        "version": 3
      },
      "file_extension": ".py",
      "mimetype": "text/x-python",
      "name": "python",
      "nbconvert_exporter": "python",
      "pygments_lexer": "ipython3",
      "version": "3.9.6"
    }
  },
  "nbformat": 4,
  "nbformat_minor": 0
}