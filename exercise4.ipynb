{
  "cells": [
    {
      "cell_type": "markdown",
      "metadata": {
        "id": "cPRRjBOhHHMh"
      },
      "source": [
        "# Exercise 4\n",
        "\n",
        "Please follow the instructions in each number."
      ]
    },
    {
      "cell_type": "markdown",
      "metadata": {
        "id": "zvDTNWRFHHMk"
      },
      "source": [
        "### Activity Selection Problem\n",
        "\n",
        "Given a set of activities, along with the starting and finishing time of each activity, find the maximum number of activities performed by a single person assuming that a person can only work on a single activity at a time.\n",
        "\n",
        "For example,\n",
        "\n",
        "Input: Following set of activities (1, 4), (3, 5), (0, 6), (5, 7), (3, 8), (5, 9), (6, 10), (8, 11), (8, 12), (2, 13), (12, 14)  \n",
        "\n",
        "Output: (1, 4), (5, 7), (8, 11), (12, 14)"
      ]
    },
    {
      "cell_type": "markdown",
      "metadata": {
        "id": "ff7w7YLGHHMl"
      },
      "source": [
        "## Tasks"
      ]
    },
    {
      "cell_type": "markdown",
      "metadata": {
        "id": "0QLHdoNSHHMl"
      },
      "source": [
        "1. Write a program using a recursive greedy approach to get the maximum number of activities (`50 points`)"
      ]
    },
    {
      "cell_type": "code",
      "execution_count": 25,
      "metadata": {
        "vscode": {
          "languageId": "plaintext"
        },
        "id": "Xe02cHvAHHMl",
        "colab": {
          "base_uri": "https://localhost:8080/"
        },
        "outputId": "dbac20f7-8cc2-4e33-f62c-966a81e553f6"
      },
      "outputs": [
        {
          "output_type": "stream",
          "name": "stdout",
          "text": [
            "Selected activities: (1, 4)\n",
            "Selected activities: (5, 7)\n",
            "Selected activities: (8, 11)\n",
            "Selected activities: (12, 14)\n"
          ]
        }
      ],
      "source": [
        "def recursive_activity_selector(activities, last_finish_time, index, selected_activities):\n",
        "\n",
        "    if index >= len(activities):\n",
        "        return selected_activities\n",
        "\n",
        "    if activities[index][0] >= last_finish_time:\n",
        "        selected_activities.append(activities[index])\n",
        "        last_finish_time = activities[index][1]\n",
        "\n",
        "    return recursive_activity_selector(activities, last_finish_time, index + 1, selected_activities)\n",
        "\n",
        "def max_activities_recursive(set_activities):\n",
        "\n",
        "    sorted_activities = sorted(set_activities, key=lambda x: x[1])\n",
        "    return recursive_activity_selector(sorted_activities, 0, 0, [])\n",
        "\n",
        "set_activities = [(1, 4), (3, 5), (0, 6), (5, 7), (3, 8), (5, 9), (6, 10), (8, 11), (8, 12), (2, 13), (12, 14)]\n",
        "\n",
        "selected_activities = max_activities_recursive(set_activities)\n",
        "\n",
        "for activity in selected_activities:\n",
        "    print(\"Selected activities:\", activity)\n"
      ]
    },
    {
      "cell_type": "markdown",
      "metadata": {
        "id": "eZe27u4LHHMn"
      },
      "source": [
        "2. Write a program using a iterative greedy approach to get the maximun number of activities (`50 points`)"
      ]
    },
    {
      "cell_type": "code",
      "execution_count": 34,
      "metadata": {
        "vscode": {
          "languageId": "plaintext"
        },
        "id": "UrSZyQwEHHMn",
        "colab": {
          "base_uri": "https://localhost:8080/"
        },
        "outputId": "728bb1e9-ec4d-4389-f430-2710de0c418b"
      },
      "outputs": [
        {
          "output_type": "stream",
          "name": "stdout",
          "text": [
            "Selected activities: (1, 4)\n",
            "Selected activities: (5, 7)\n",
            "Selected activities: (8, 11)\n",
            "Selected activities: (12, 14)\n"
          ]
        }
      ],
      "source": [
        "def max_activities(set_activities):\n",
        "\n",
        "    sorted_activities = sorted(set_activities, key=lambda x: x[1])\n",
        "    selected_activities = []\n",
        "    last_finish_time = 0\n",
        "\n",
        "    for activity in sorted_activities:\n",
        "        if activity[0] >= last_finish_time:\n",
        "            selected_activities.append(activity)\n",
        "            last_finish_time = activity[1]\n",
        "\n",
        "    return selected_activities\n",
        "\n",
        "set_activities = [(1, 4), (3, 5), (0, 6), (5, 7), (3, 8), (5, 9), (6, 10), (8, 11), (8, 12), (2, 13), (12, 14)]\n",
        "\n",
        "selected_activities = max_activities(set_activities)\n",
        "\n",
        "for activity in selected_activities:\n",
        "     print(\"Selected activities:\", activity)"
      ]
    }
  ],
  "metadata": {
    "colab": {
      "provenance": []
    },
    "kernelspec": {
      "display_name": "base",
      "language": "python",
      "name": "python3"
    },
    "language_info": {
      "codemirror_mode": {
        "name": "ipython",
        "version": 3
      },
      "file_extension": ".py",
      "mimetype": "text/x-python",
      "name": "python",
      "nbconvert_exporter": "python",
      "pygments_lexer": "ipython3",
      "version": "3.9.6"
    }
  },
  "nbformat": 4,
  "nbformat_minor": 0
}